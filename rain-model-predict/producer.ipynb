{
 "cells": [
  {
   "cell_type": "code",
   "execution_count": 3,
   "id": "05c4f24d",
   "metadata": {},
   "outputs": [
    {
     "name": "stdout",
     "output_type": "stream",
     "text": [
      "Image 7413.jpg sent\n",
      "Image 7415.jpg sent\n",
      "Image 7420.jpg sent\n",
      "Image 7423.jpg sent\n",
      "Image 7431.jpg sent\n",
      "Image 7450.jpg sent\n",
      "Image 7457.jpg sent\n",
      "Image 7461.jpg sent\n",
      "Image 7464.jpg sent\n",
      "Image 7476.jpg sent\n",
      "Image 7486.jpg sent\n",
      "Image 7541.jpg sent\n",
      "Image 7543.jpg sent\n",
      "Image 7577.jpg sent\n",
      "Image 7581.jpg sent\n",
      "Image 7583.jpg sent\n",
      "Image 7584.jpg sent\n",
      "Image 7586.jpg sent\n",
      "Image 7590.jpg sent\n",
      "Image 7593.jpg sent\n",
      "Image 7595.jpg sent\n",
      "Image 7604.jpg sent\n",
      "Image 7605.jpg sent\n",
      "Image 7611.jpg sent\n",
      "Image 7616.jpg sent\n",
      "Image 7644.jpg sent\n",
      "Image 7647.jpg sent\n",
      "Image 7651.jpg sent\n",
      "Image 7652.jpg sent\n",
      "Image 7658.jpg sent\n",
      "Image 7666.jpg sent\n",
      "Image 7684.jpg sent\n",
      "Image 7689.jpg sent\n"
     ]
    },
    {
     "ename": "KeyboardInterrupt",
     "evalue": "",
     "output_type": "error",
     "traceback": [
      "\u001b[1;31m---------------------------------------------------------------------------\u001b[0m",
      "\u001b[1;31mKeyboardInterrupt\u001b[0m                         Traceback (most recent call last)",
      "Cell \u001b[1;32mIn[3], line 36\u001b[0m\n\u001b[0;32m     34\u001b[0m     \u001b[38;5;28;01mexcept\u001b[39;00m \u001b[38;5;167;01mException\u001b[39;00m \u001b[38;5;28;01mas\u001b[39;00m e:\n\u001b[0;32m     35\u001b[0m         \u001b[38;5;28mprint\u001b[39m(\u001b[38;5;124mf\u001b[39m\u001b[38;5;124m\"\u001b[39m\u001b[38;5;124mFailed to send image \u001b[39m\u001b[38;5;132;01m{\u001b[39;00mimage_file\u001b[38;5;132;01m}\u001b[39;00m\u001b[38;5;124m: \u001b[39m\u001b[38;5;132;01m{\u001b[39;00me\u001b[38;5;132;01m}\u001b[39;00m\u001b[38;5;124m\"\u001b[39m)\n\u001b[1;32m---> 36\u001b[0m     \u001b[43msleep\u001b[49m\u001b[43m(\u001b[49m\u001b[38;5;241;43m5\u001b[39;49m\u001b[43m)\u001b[49m\n\u001b[0;32m     38\u001b[0m producer\u001b[38;5;241m.\u001b[39mflush()\n",
      "\u001b[1;31mKeyboardInterrupt\u001b[0m: "
     ]
    }
   ],
   "source": [
    "from kafka import KafkaProducer\n",
    "from time import sleep\n",
    "from PIL import Image\n",
    "import os\n",
    "import io\n",
    "\n",
    "topic_name = 'RandomImage'\n",
    "kafka_server = 'localhost:9092'\n",
    "\n",
    "# Tạo Kafka producer\n",
    "producer = KafkaProducer(bootstrap_servers=kafka_server, value_serializer=lambda x: x)\n",
    "\n",
    "# Đường dẫn đến thư mục chứa ảnh\n",
    "image_folder = '../raintraining/test/floodedimagefirst'\n",
    "\n",
    "# Lấy danh sách các tệp ảnh trong thư mục\n",
    "image_files = [f for f in os.listdir(image_folder) if os.path.isfile(os.path.join(image_folder, f))]\n",
    "\n",
    "# Gửi từng ảnh qua Kafka\n",
    "for image_file in image_files:\n",
    "    try:\n",
    "        # Đường dẫn đầy đủ đến tệp ảnh\n",
    "        image_path = os.path.join(image_folder, image_file)\n",
    "        # Trích xuất số thứ tự của ảnh từ tên tệp\n",
    "        image_count = os.path.splitext(image_file)[0]\n",
    "        # Đọc ảnh và chuyển đổi thành byte\n",
    "        with Image.open(image_path) as img:\n",
    "            img_byte_arr = io.BytesIO()\n",
    "            img.save(img_byte_arr, format=img.format)\n",
    "            img_bytes = img_byte_arr.getvalue()\n",
    "        # Gửi số thứ tự của ảnh cùng với dữ liệu hình ảnh qua Kafka\n",
    "        producer.send(topic_name, key=str(image_count).encode('utf-8'), value=img_bytes)\n",
    "        print(f\"Image {image_file} sent\")\n",
    "    except Exception as e:\n",
    "        print(f\"Failed to send image {image_file}: {e}\")\n",
    "    sleep(5)\n",
    "\n",
    "producer.flush()"
   ]
  },
  {
   "cell_type": "code",
   "execution_count": null,
   "id": "0f038d27",
   "metadata": {},
   "outputs": [],
   "source": []
  }
 ],
 "metadata": {
  "kernelspec": {
   "display_name": "Python 3 (ipykernel)",
   "language": "python",
   "name": "python3"
  },
  "language_info": {
   "codemirror_mode": {
    "name": "ipython",
    "version": 3
   },
   "file_extension": ".py",
   "mimetype": "text/x-python",
   "name": "python",
   "nbconvert_exporter": "python",
   "pygments_lexer": "ipython3",
   "version": "3.9.18"
  }
 },
 "nbformat": 4,
 "nbformat_minor": 5
}
