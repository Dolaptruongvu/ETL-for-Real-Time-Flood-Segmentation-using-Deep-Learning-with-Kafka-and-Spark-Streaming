{
 "cells": [
  {
   "cell_type": "code",
   "execution_count": 1,
   "metadata": {},
   "outputs": [
    {
     "name": "stderr",
     "output_type": "stream",
     "text": [
      "d:\\Anaconda\\envs\\cuda\\lib\\site-packages\\tqdm\\auto.py:21: TqdmWarning: IProgress not found. Please update jupyter and ipywidgets. See https://ipywidgets.readthedocs.io/en/stable/user_install.html\n",
      "  from .autonotebook import tqdm as notebook_tqdm\n"
     ]
    }
   ],
   "source": [
    "import os\n",
    "import io\n",
    "import logging\n",
    "from kafka import KafkaProducer\n",
    "from PIL import Image\n",
    "from pyspark.sql import SparkSession\n",
    "from pyspark.sql.functions import col, struct\n",
    "from pyspark.sql.types import ArrayType, FloatType\n",
    "import segmentation_models_pytorch\n",
    "import torch\n",
    "from torchvision import transforms\n",
    "import cv2\n",
    "import numpy as np\n",
    "from pyspark.ml.functions import predict_batch_udf\n",
    "from pymongo import MongoClient\n",
    "import gridfs\n"
   ]
  },
  {
   "cell_type": "code",
   "execution_count": 2,
   "metadata": {},
   "outputs": [],
   "source": [
    "# Set up logging\n",
    "logging.basicConfig(level=logging.INFO)\n",
    "logger = logging.getLogger(__name__)\n",
    "\n",
    "python_version = 'D:/Anaconda/envs/cuda/python.exe'\n",
    "os.environ['PYSPARK_PYTHON'] = python_version\n",
    "os.environ['PYSPARK_DRIVER_PYTHON'] = python_version"
   ]
  },
  {
   "cell_type": "code",
   "execution_count": 3,
   "metadata": {},
   "outputs": [],
   "source": [
    "# Setup MongoDB\n",
    "client = MongoClient('localhost', 27017)\n",
    "db = client['image_db']\n",
    "collection = db['image_masks']\n",
    "fs = gridfs.GridFS(db)"
   ]
  },
  {
   "cell_type": "code",
   "execution_count": 4,
   "metadata": {},
   "outputs": [],
   "source": [
    "# Kafka and Spark configuration\n",
    "kafka_server = 'localhost:9092'\n",
    "topic_name = 'RandomImage'\n",
    "scala_version = '2.12'\n",
    "spark_version = '3.5.1'\n",
    "packages = [f'org.apache.spark:spark-sql-kafka-0-10_{scala_version}:{spark_version}', 'org.apache.kafka:kafka-clients:3.7.0']\n",
    "\n",
    "spark = SparkSession.builder.master(\"local\").appName(\"kafka-example\") \\\n",
    "                    .config(\"spark.driver.memory\", \"23g\") \\\n",
    "                    .config(\"spark.executor.memory\", \"23g\") \\\n",
    "                    .config(\"spark.executor.cores\", \"8\") \\\n",
    "                    .config(\"spark.sql.shuffle.partitions\", \"1000\") \\\n",
    "                    .config(\"spark.sql.execution.arrow.pyspark.enabled\", \"true\") \\\n",
    "                    .config(\"spark.jars.packages\", \",\".join(packages)) \\\n",
    "                    .config(\"spark.network.timeout\", \"6000s\") \\\n",
    "                    .config(\"spark.executor.heartbeatInterval\", \"1000s\") \\\n",
    "                    .config(\"spark.streaming.kafka.consumer.poll.ms\", \"600000\") \\\n",
    "                    .config(\"spark.streaming.backpressure.enabled\", \"true\") \\\n",
    "                    .config(\"spark.streaming.receiver.maxRate\", \"50\") \\\n",
    "                    .getOrCreate()"
   ]
  },
  {
   "cell_type": "code",
   "execution_count": 5,
   "metadata": {},
   "outputs": [],
   "source": [
    "MODEL_LOAD_PATH = f'./models/supreme/abhi_sudo_full_2-pretrained_preproc_1-deeplabv3+-ep_8-0.001-30.pt'\n",
    "SAVE_PATH = f'./predictionsDeeplab'\n",
    "\n",
    "os.makedirs(SAVE_PATH, exist_ok=True)\n",
    "\n",
    "\n",
    "# ####### DEEPLAB V3+ CONFIG #######\n",
    "ENCODER_DEPTH=5\n",
    "DECODER_CHANNELS=256\n",
    "BATCH_SIZE= 16\n",
    "EPOCHS= 100\n",
    "LR = [1e-3]\n",
    "ENCODER_NAME= 'resnet50'\n",
    "\n",
    "CLASSES={'Background':0,'Building-flooded':1,'Building-non-flooded':2,'Road-flooded':3,'Road-non-flooded':4,\n",
    "         'Water':5,'Tree':6,'Vehicle':7,'Pool':8,'Grass':9}\n",
    "IMG_DIM= 512"
   ]
  },
  {
   "cell_type": "code",
   "execution_count": 6,
   "metadata": {},
   "outputs": [],
   "source": [
    "device = torch.device(\"cuda:0\" if torch.cuda.is_available() else \"cpu\")"
   ]
  },
  {
   "cell_type": "code",
   "execution_count": 7,
   "metadata": {},
   "outputs": [
    {
     "data": {
      "text/plain": [
       "DeepLabV3Plus(\n",
       "  (encoder): ResNetEncoder(\n",
       "    (conv1): Conv2d(3, 64, kernel_size=(7, 7), stride=(2, 2), padding=(3, 3), bias=False)\n",
       "    (bn1): BatchNorm2d(64, eps=1e-05, momentum=0.1, affine=True, track_running_stats=True)\n",
       "    (relu): ReLU(inplace=True)\n",
       "    (maxpool): MaxPool2d(kernel_size=3, stride=2, padding=1, dilation=1, ceil_mode=False)\n",
       "    (layer1): Sequential(\n",
       "      (0): Bottleneck(\n",
       "        (conv1): Conv2d(64, 64, kernel_size=(1, 1), stride=(1, 1), bias=False)\n",
       "        (bn1): BatchNorm2d(64, eps=1e-05, momentum=0.1, affine=True, track_running_stats=True)\n",
       "        (conv2): Conv2d(64, 64, kernel_size=(3, 3), stride=(1, 1), padding=(1, 1), bias=False)\n",
       "        (bn2): BatchNorm2d(64, eps=1e-05, momentum=0.1, affine=True, track_running_stats=True)\n",
       "        (conv3): Conv2d(64, 256, kernel_size=(1, 1), stride=(1, 1), bias=False)\n",
       "        (bn3): BatchNorm2d(256, eps=1e-05, momentum=0.1, affine=True, track_running_stats=True)\n",
       "        (relu): ReLU(inplace=True)\n",
       "        (downsample): Sequential(\n",
       "          (0): Conv2d(64, 256, kernel_size=(1, 1), stride=(1, 1), bias=False)\n",
       "          (1): BatchNorm2d(256, eps=1e-05, momentum=0.1, affine=True, track_running_stats=True)\n",
       "        )\n",
       "      )\n",
       "      (1): Bottleneck(\n",
       "        (conv1): Conv2d(256, 64, kernel_size=(1, 1), stride=(1, 1), bias=False)\n",
       "        (bn1): BatchNorm2d(64, eps=1e-05, momentum=0.1, affine=True, track_running_stats=True)\n",
       "        (conv2): Conv2d(64, 64, kernel_size=(3, 3), stride=(1, 1), padding=(1, 1), bias=False)\n",
       "        (bn2): BatchNorm2d(64, eps=1e-05, momentum=0.1, affine=True, track_running_stats=True)\n",
       "        (conv3): Conv2d(64, 256, kernel_size=(1, 1), stride=(1, 1), bias=False)\n",
       "        (bn3): BatchNorm2d(256, eps=1e-05, momentum=0.1, affine=True, track_running_stats=True)\n",
       "        (relu): ReLU(inplace=True)\n",
       "      )\n",
       "      (2): Bottleneck(\n",
       "        (conv1): Conv2d(256, 64, kernel_size=(1, 1), stride=(1, 1), bias=False)\n",
       "        (bn1): BatchNorm2d(64, eps=1e-05, momentum=0.1, affine=True, track_running_stats=True)\n",
       "        (conv2): Conv2d(64, 64, kernel_size=(3, 3), stride=(1, 1), padding=(1, 1), bias=False)\n",
       "        (bn2): BatchNorm2d(64, eps=1e-05, momentum=0.1, affine=True, track_running_stats=True)\n",
       "        (conv3): Conv2d(64, 256, kernel_size=(1, 1), stride=(1, 1), bias=False)\n",
       "        (bn3): BatchNorm2d(256, eps=1e-05, momentum=0.1, affine=True, track_running_stats=True)\n",
       "        (relu): ReLU(inplace=True)\n",
       "      )\n",
       "    )\n",
       "    (layer2): Sequential(\n",
       "      (0): Bottleneck(\n",
       "        (conv1): Conv2d(256, 128, kernel_size=(1, 1), stride=(1, 1), bias=False)\n",
       "        (bn1): BatchNorm2d(128, eps=1e-05, momentum=0.1, affine=True, track_running_stats=True)\n",
       "        (conv2): Conv2d(128, 128, kernel_size=(3, 3), stride=(2, 2), padding=(1, 1), bias=False)\n",
       "        (bn2): BatchNorm2d(128, eps=1e-05, momentum=0.1, affine=True, track_running_stats=True)\n",
       "        (conv3): Conv2d(128, 512, kernel_size=(1, 1), stride=(1, 1), bias=False)\n",
       "        (bn3): BatchNorm2d(512, eps=1e-05, momentum=0.1, affine=True, track_running_stats=True)\n",
       "        (relu): ReLU(inplace=True)\n",
       "        (downsample): Sequential(\n",
       "          (0): Conv2d(256, 512, kernel_size=(1, 1), stride=(2, 2), bias=False)\n",
       "          (1): BatchNorm2d(512, eps=1e-05, momentum=0.1, affine=True, track_running_stats=True)\n",
       "        )\n",
       "      )\n",
       "      (1): Bottleneck(\n",
       "        (conv1): Conv2d(512, 128, kernel_size=(1, 1), stride=(1, 1), bias=False)\n",
       "        (bn1): BatchNorm2d(128, eps=1e-05, momentum=0.1, affine=True, track_running_stats=True)\n",
       "        (conv2): Conv2d(128, 128, kernel_size=(3, 3), stride=(1, 1), padding=(1, 1), bias=False)\n",
       "        (bn2): BatchNorm2d(128, eps=1e-05, momentum=0.1, affine=True, track_running_stats=True)\n",
       "        (conv3): Conv2d(128, 512, kernel_size=(1, 1), stride=(1, 1), bias=False)\n",
       "        (bn3): BatchNorm2d(512, eps=1e-05, momentum=0.1, affine=True, track_running_stats=True)\n",
       "        (relu): ReLU(inplace=True)\n",
       "      )\n",
       "      (2): Bottleneck(\n",
       "        (conv1): Conv2d(512, 128, kernel_size=(1, 1), stride=(1, 1), bias=False)\n",
       "        (bn1): BatchNorm2d(128, eps=1e-05, momentum=0.1, affine=True, track_running_stats=True)\n",
       "        (conv2): Conv2d(128, 128, kernel_size=(3, 3), stride=(1, 1), padding=(1, 1), bias=False)\n",
       "        (bn2): BatchNorm2d(128, eps=1e-05, momentum=0.1, affine=True, track_running_stats=True)\n",
       "        (conv3): Conv2d(128, 512, kernel_size=(1, 1), stride=(1, 1), bias=False)\n",
       "        (bn3): BatchNorm2d(512, eps=1e-05, momentum=0.1, affine=True, track_running_stats=True)\n",
       "        (relu): ReLU(inplace=True)\n",
       "      )\n",
       "      (3): Bottleneck(\n",
       "        (conv1): Conv2d(512, 128, kernel_size=(1, 1), stride=(1, 1), bias=False)\n",
       "        (bn1): BatchNorm2d(128, eps=1e-05, momentum=0.1, affine=True, track_running_stats=True)\n",
       "        (conv2): Conv2d(128, 128, kernel_size=(3, 3), stride=(1, 1), padding=(1, 1), bias=False)\n",
       "        (bn2): BatchNorm2d(128, eps=1e-05, momentum=0.1, affine=True, track_running_stats=True)\n",
       "        (conv3): Conv2d(128, 512, kernel_size=(1, 1), stride=(1, 1), bias=False)\n",
       "        (bn3): BatchNorm2d(512, eps=1e-05, momentum=0.1, affine=True, track_running_stats=True)\n",
       "        (relu): ReLU(inplace=True)\n",
       "      )\n",
       "    )\n",
       "    (layer3): Sequential(\n",
       "      (0): Bottleneck(\n",
       "        (conv1): Conv2d(512, 256, kernel_size=(1, 1), stride=(1, 1), bias=False)\n",
       "        (bn1): BatchNorm2d(256, eps=1e-05, momentum=0.1, affine=True, track_running_stats=True)\n",
       "        (conv2): Conv2d(256, 256, kernel_size=(3, 3), stride=(2, 2), padding=(1, 1), bias=False)\n",
       "        (bn2): BatchNorm2d(256, eps=1e-05, momentum=0.1, affine=True, track_running_stats=True)\n",
       "        (conv3): Conv2d(256, 1024, kernel_size=(1, 1), stride=(1, 1), bias=False)\n",
       "        (bn3): BatchNorm2d(1024, eps=1e-05, momentum=0.1, affine=True, track_running_stats=True)\n",
       "        (relu): ReLU(inplace=True)\n",
       "        (downsample): Sequential(\n",
       "          (0): Conv2d(512, 1024, kernel_size=(1, 1), stride=(2, 2), bias=False)\n",
       "          (1): BatchNorm2d(1024, eps=1e-05, momentum=0.1, affine=True, track_running_stats=True)\n",
       "        )\n",
       "      )\n",
       "      (1): Bottleneck(\n",
       "        (conv1): Conv2d(1024, 256, kernel_size=(1, 1), stride=(1, 1), bias=False)\n",
       "        (bn1): BatchNorm2d(256, eps=1e-05, momentum=0.1, affine=True, track_running_stats=True)\n",
       "        (conv2): Conv2d(256, 256, kernel_size=(3, 3), stride=(1, 1), padding=(1, 1), bias=False)\n",
       "        (bn2): BatchNorm2d(256, eps=1e-05, momentum=0.1, affine=True, track_running_stats=True)\n",
       "        (conv3): Conv2d(256, 1024, kernel_size=(1, 1), stride=(1, 1), bias=False)\n",
       "        (bn3): BatchNorm2d(1024, eps=1e-05, momentum=0.1, affine=True, track_running_stats=True)\n",
       "        (relu): ReLU(inplace=True)\n",
       "      )\n",
       "      (2): Bottleneck(\n",
       "        (conv1): Conv2d(1024, 256, kernel_size=(1, 1), stride=(1, 1), bias=False)\n",
       "        (bn1): BatchNorm2d(256, eps=1e-05, momentum=0.1, affine=True, track_running_stats=True)\n",
       "        (conv2): Conv2d(256, 256, kernel_size=(3, 3), stride=(1, 1), padding=(1, 1), bias=False)\n",
       "        (bn2): BatchNorm2d(256, eps=1e-05, momentum=0.1, affine=True, track_running_stats=True)\n",
       "        (conv3): Conv2d(256, 1024, kernel_size=(1, 1), stride=(1, 1), bias=False)\n",
       "        (bn3): BatchNorm2d(1024, eps=1e-05, momentum=0.1, affine=True, track_running_stats=True)\n",
       "        (relu): ReLU(inplace=True)\n",
       "      )\n",
       "      (3): Bottleneck(\n",
       "        (conv1): Conv2d(1024, 256, kernel_size=(1, 1), stride=(1, 1), bias=False)\n",
       "        (bn1): BatchNorm2d(256, eps=1e-05, momentum=0.1, affine=True, track_running_stats=True)\n",
       "        (conv2): Conv2d(256, 256, kernel_size=(3, 3), stride=(1, 1), padding=(1, 1), bias=False)\n",
       "        (bn2): BatchNorm2d(256, eps=1e-05, momentum=0.1, affine=True, track_running_stats=True)\n",
       "        (conv3): Conv2d(256, 1024, kernel_size=(1, 1), stride=(1, 1), bias=False)\n",
       "        (bn3): BatchNorm2d(1024, eps=1e-05, momentum=0.1, affine=True, track_running_stats=True)\n",
       "        (relu): ReLU(inplace=True)\n",
       "      )\n",
       "      (4): Bottleneck(\n",
       "        (conv1): Conv2d(1024, 256, kernel_size=(1, 1), stride=(1, 1), bias=False)\n",
       "        (bn1): BatchNorm2d(256, eps=1e-05, momentum=0.1, affine=True, track_running_stats=True)\n",
       "        (conv2): Conv2d(256, 256, kernel_size=(3, 3), stride=(1, 1), padding=(1, 1), bias=False)\n",
       "        (bn2): BatchNorm2d(256, eps=1e-05, momentum=0.1, affine=True, track_running_stats=True)\n",
       "        (conv3): Conv2d(256, 1024, kernel_size=(1, 1), stride=(1, 1), bias=False)\n",
       "        (bn3): BatchNorm2d(1024, eps=1e-05, momentum=0.1, affine=True, track_running_stats=True)\n",
       "        (relu): ReLU(inplace=True)\n",
       "      )\n",
       "      (5): Bottleneck(\n",
       "        (conv1): Conv2d(1024, 256, kernel_size=(1, 1), stride=(1, 1), bias=False)\n",
       "        (bn1): BatchNorm2d(256, eps=1e-05, momentum=0.1, affine=True, track_running_stats=True)\n",
       "        (conv2): Conv2d(256, 256, kernel_size=(3, 3), stride=(1, 1), padding=(1, 1), bias=False)\n",
       "        (bn2): BatchNorm2d(256, eps=1e-05, momentum=0.1, affine=True, track_running_stats=True)\n",
       "        (conv3): Conv2d(256, 1024, kernel_size=(1, 1), stride=(1, 1), bias=False)\n",
       "        (bn3): BatchNorm2d(1024, eps=1e-05, momentum=0.1, affine=True, track_running_stats=True)\n",
       "        (relu): ReLU(inplace=True)\n",
       "      )\n",
       "    )\n",
       "    (layer4): Sequential(\n",
       "      (0): Bottleneck(\n",
       "        (conv1): Conv2d(1024, 512, kernel_size=(1, 1), stride=(1, 1), dilation=(2, 2), bias=False)\n",
       "        (bn1): BatchNorm2d(512, eps=1e-05, momentum=0.1, affine=True, track_running_stats=True)\n",
       "        (conv2): Conv2d(512, 512, kernel_size=(3, 3), stride=(1, 1), padding=(2, 2), dilation=(2, 2), bias=False)\n",
       "        (bn2): BatchNorm2d(512, eps=1e-05, momentum=0.1, affine=True, track_running_stats=True)\n",
       "        (conv3): Conv2d(512, 2048, kernel_size=(1, 1), stride=(1, 1), dilation=(2, 2), bias=False)\n",
       "        (bn3): BatchNorm2d(2048, eps=1e-05, momentum=0.1, affine=True, track_running_stats=True)\n",
       "        (relu): ReLU(inplace=True)\n",
       "        (downsample): Sequential(\n",
       "          (0): Conv2d(1024, 2048, kernel_size=(1, 1), stride=(1, 1), dilation=(2, 2), bias=False)\n",
       "          (1): BatchNorm2d(2048, eps=1e-05, momentum=0.1, affine=True, track_running_stats=True)\n",
       "        )\n",
       "      )\n",
       "      (1): Bottleneck(\n",
       "        (conv1): Conv2d(2048, 512, kernel_size=(1, 1), stride=(1, 1), dilation=(2, 2), bias=False)\n",
       "        (bn1): BatchNorm2d(512, eps=1e-05, momentum=0.1, affine=True, track_running_stats=True)\n",
       "        (conv2): Conv2d(512, 512, kernel_size=(3, 3), stride=(1, 1), padding=(2, 2), dilation=(2, 2), bias=False)\n",
       "        (bn2): BatchNorm2d(512, eps=1e-05, momentum=0.1, affine=True, track_running_stats=True)\n",
       "        (conv3): Conv2d(512, 2048, kernel_size=(1, 1), stride=(1, 1), dilation=(2, 2), bias=False)\n",
       "        (bn3): BatchNorm2d(2048, eps=1e-05, momentum=0.1, affine=True, track_running_stats=True)\n",
       "        (relu): ReLU(inplace=True)\n",
       "      )\n",
       "      (2): Bottleneck(\n",
       "        (conv1): Conv2d(2048, 512, kernel_size=(1, 1), stride=(1, 1), dilation=(2, 2), bias=False)\n",
       "        (bn1): BatchNorm2d(512, eps=1e-05, momentum=0.1, affine=True, track_running_stats=True)\n",
       "        (conv2): Conv2d(512, 512, kernel_size=(3, 3), stride=(1, 1), padding=(2, 2), dilation=(2, 2), bias=False)\n",
       "        (bn2): BatchNorm2d(512, eps=1e-05, momentum=0.1, affine=True, track_running_stats=True)\n",
       "        (conv3): Conv2d(512, 2048, kernel_size=(1, 1), stride=(1, 1), dilation=(2, 2), bias=False)\n",
       "        (bn3): BatchNorm2d(2048, eps=1e-05, momentum=0.1, affine=True, track_running_stats=True)\n",
       "        (relu): ReLU(inplace=True)\n",
       "      )\n",
       "    )\n",
       "  )\n",
       "  (decoder): DeepLabV3PlusDecoder(\n",
       "    (aspp): Sequential(\n",
       "      (0): ASPP(\n",
       "        (convs): ModuleList(\n",
       "          (0): Sequential(\n",
       "            (0): Conv2d(2048, 256, kernel_size=(1, 1), stride=(1, 1), bias=False)\n",
       "            (1): BatchNorm2d(256, eps=1e-05, momentum=0.1, affine=True, track_running_stats=True)\n",
       "            (2): ReLU()\n",
       "          )\n",
       "          (1): ASPPSeparableConv(\n",
       "            (0): SeparableConv2d(\n",
       "              (0): Conv2d(2048, 2048, kernel_size=(3, 3), stride=(1, 1), padding=(12, 12), dilation=(12, 12), groups=2048, bias=False)\n",
       "              (1): Conv2d(2048, 256, kernel_size=(1, 1), stride=(1, 1), bias=False)\n",
       "            )\n",
       "            (1): BatchNorm2d(256, eps=1e-05, momentum=0.1, affine=True, track_running_stats=True)\n",
       "            (2): ReLU()\n",
       "          )\n",
       "          (2): ASPPSeparableConv(\n",
       "            (0): SeparableConv2d(\n",
       "              (0): Conv2d(2048, 2048, kernel_size=(3, 3), stride=(1, 1), padding=(24, 24), dilation=(24, 24), groups=2048, bias=False)\n",
       "              (1): Conv2d(2048, 256, kernel_size=(1, 1), stride=(1, 1), bias=False)\n",
       "            )\n",
       "            (1): BatchNorm2d(256, eps=1e-05, momentum=0.1, affine=True, track_running_stats=True)\n",
       "            (2): ReLU()\n",
       "          )\n",
       "          (3): ASPPSeparableConv(\n",
       "            (0): SeparableConv2d(\n",
       "              (0): Conv2d(2048, 2048, kernel_size=(3, 3), stride=(1, 1), padding=(36, 36), dilation=(36, 36), groups=2048, bias=False)\n",
       "              (1): Conv2d(2048, 256, kernel_size=(1, 1), stride=(1, 1), bias=False)\n",
       "            )\n",
       "            (1): BatchNorm2d(256, eps=1e-05, momentum=0.1, affine=True, track_running_stats=True)\n",
       "            (2): ReLU()\n",
       "          )\n",
       "          (4): ASPPPooling(\n",
       "            (0): AdaptiveAvgPool2d(output_size=1)\n",
       "            (1): Conv2d(2048, 256, kernel_size=(1, 1), stride=(1, 1), bias=False)\n",
       "            (2): BatchNorm2d(256, eps=1e-05, momentum=0.1, affine=True, track_running_stats=True)\n",
       "            (3): ReLU()\n",
       "          )\n",
       "        )\n",
       "        (project): Sequential(\n",
       "          (0): Conv2d(1280, 256, kernel_size=(1, 1), stride=(1, 1), bias=False)\n",
       "          (1): BatchNorm2d(256, eps=1e-05, momentum=0.1, affine=True, track_running_stats=True)\n",
       "          (2): ReLU()\n",
       "          (3): Dropout(p=0.5, inplace=False)\n",
       "        )\n",
       "      )\n",
       "      (1): SeparableConv2d(\n",
       "        (0): Conv2d(256, 256, kernel_size=(3, 3), stride=(1, 1), padding=(1, 1), groups=256, bias=False)\n",
       "        (1): Conv2d(256, 256, kernel_size=(1, 1), stride=(1, 1), bias=False)\n",
       "      )\n",
       "      (2): BatchNorm2d(256, eps=1e-05, momentum=0.1, affine=True, track_running_stats=True)\n",
       "      (3): ReLU()\n",
       "    )\n",
       "    (up): UpsamplingBilinear2d(scale_factor=4.0, mode='bilinear')\n",
       "    (block1): Sequential(\n",
       "      (0): Conv2d(256, 48, kernel_size=(1, 1), stride=(1, 1), bias=False)\n",
       "      (1): BatchNorm2d(48, eps=1e-05, momentum=0.1, affine=True, track_running_stats=True)\n",
       "      (2): ReLU()\n",
       "    )\n",
       "    (block2): Sequential(\n",
       "      (0): SeparableConv2d(\n",
       "        (0): Conv2d(304, 304, kernel_size=(3, 3), stride=(1, 1), padding=(1, 1), groups=304, bias=False)\n",
       "        (1): Conv2d(304, 256, kernel_size=(1, 1), stride=(1, 1), bias=False)\n",
       "      )\n",
       "      (1): BatchNorm2d(256, eps=1e-05, momentum=0.1, affine=True, track_running_stats=True)\n",
       "      (2): ReLU()\n",
       "    )\n",
       "  )\n",
       "  (segmentation_head): SegmentationHead(\n",
       "    (0): Conv2d(256, 10, kernel_size=(1, 1), stride=(1, 1))\n",
       "    (1): UpsamplingBilinear2d(scale_factor=4.0, mode='bilinear')\n",
       "    (2): Activation(\n",
       "      (activation): Identity()\n",
       "    )\n",
       "  )\n",
       ")"
      ]
     },
     "execution_count": 7,
     "metadata": {},
     "output_type": "execute_result"
    }
   ],
   "source": [
    "model = segmentation_models_pytorch.DeepLabV3Plus(encoder_name=ENCODER_NAME, encoder_depth=ENCODER_DEPTH,\n",
    "                                              decoder_channels=DECODER_CHANNELS, classes=len(CLASSES))\n",
    "\n",
    "\n",
    "model = model.to(device)\n",
    "model.load_state_dict(torch.load(MODEL_LOAD_PATH,map_location=torch.device('cuda')))\n",
    "# model = model.to(\"cpu\")\n",
    "model.eval()"
   ]
  },
  {
   "cell_type": "code",
   "execution_count": 8,
   "metadata": {},
   "outputs": [],
   "source": [
    "\n",
    "val_transform = transforms.Compose([\n",
    "    transforms.ToTensor(),\n",
    "    transforms.Normalize([0.485, 0.456, 0.406], [0.229, 0.224, 0.225])\n",
    "])\n",
    "\n",
    "def reverse_transform_mask(inp):\n",
    "    inp = inp.transpose((1, 2, 0))\n",
    "    t_mask = np.argmax(inp, axis=2).astype('float32')\n",
    "    t_mask = cv2.resize(t_mask, dsize=(4000, 3000))\n",
    "    kernel = np.ones((3, 3), np.uint8)\n",
    "    t_mask = cv2.erode(t_mask, kernel, iterations=1)\n",
    "    return t_mask\n",
    "\n",
    "def transform_image(image_bytes):\n",
    "    img = Image.open(io.BytesIO(image_bytes))\n",
    "    img = img.resize((IMG_DIM, IMG_DIM))\n",
    "    img = np.array(img)\n",
    "    kernel = np.ones((2, 2), np.uint8)\n",
    "    img = cv2.bilateralFilter(img, 5, 75, 75)\n",
    "    img = cv2.erode(cv2.dilate(img, kernel, iterations=2), kernel, iterations=1)\n",
    "    transformed_img = val_transform(img)\n",
    "    return transformed_img.numpy().flatten().astype(np.float32)\n",
    "\n",
    "def predict_batch_fn():\n",
    "    \n",
    "    model.eval()\n",
    "\n",
    "    def predict(inputs: np.ndarray):\n",
    "        inputs = inputs.reshape(-1, 3, IMG_DIM, IMG_DIM)\n",
    "        inputs_tensor = torch.from_numpy(inputs).to(device).float()\n",
    "        with torch.no_grad():\n",
    "            preds = model(inputs_tensor)\n",
    "            preds = torch.sigmoid(preds).cpu().numpy()\n",
    "        # Ensure each prediction is two-dimensional\n",
    "        predictions_2d = preds.reshape(inputs.shape[0], -1)\n",
    "        return predictions_2d\n",
    "\n",
    "    return predict"
   ]
  },
  {
   "cell_type": "code",
   "execution_count": 9,
   "metadata": {},
   "outputs": [],
   "source": [
    "\n",
    "image_predict_udf = predict_batch_udf(\n",
    "    predict_batch_fn,\n",
    "    return_type=ArrayType(FloatType()),\n",
    "    batch_size=BATCH_SIZE,\n",
    "    input_tensor_shapes=[[3 * IMG_DIM * IMG_DIM]]\n",
    ")"
   ]
  },
  {
   "cell_type": "code",
   "execution_count": 10,
   "metadata": {},
   "outputs": [],
   "source": [
    "\n",
    "def foreach_batch_function(df, epoch_id):\n",
    "    logger.info(f\"Foreach Batch Function called on Epoch ID: {epoch_id}.\")\n",
    "    print(f\"Foreach Batch Function called on Epoch ID: {epoch_id}.\")\n",
    "    if df.count() > 0:\n",
    "        logger.info(f\"Processing {df.count()} records in the batch.\")\n",
    "        print(f\"Processing {df.count()} records in the batch.\")\n",
    "        pandas_df = df.toPandas()\n",
    "        transformed_images = []\n",
    "        keys = []\n",
    "\n",
    "        for index, row in pandas_df.iterrows():\n",
    "            transformed_img = transform_image(row['image_bytes'])\n",
    "            logger.info(f\"Transformed image shape: {transformed_img.shape}\")\n",
    "            print(f\"Transformed image shape: {transformed_img.shape}\")\n",
    "            transformed_images.append(transformed_img)\n",
    "            keys.append(row['key'])\n",
    "\n",
    "        inputs_array = np.array(transformed_images)\n",
    "        logger.info(f\"Inputs array shape: {inputs_array.shape}\")\n",
    "        print(f\"Inputs array shape: {inputs_array.shape}\")\n",
    "\n",
    "        # Convert numpy array to list of lists for each image\n",
    "        inputs_list = [img.tolist() for img in inputs_array]\n",
    "\n",
    "        # Create DataFrame from transformed images and keys\n",
    "        inputs_struct = spark.createDataFrame(list(zip(keys, inputs_list)), schema=[\"key\", \"transformed_image_bytes\"])\n",
    "        logger.info(f\"create dataframe successfully\")\n",
    "        inputs_struct = inputs_struct.withColumn(\"predictions\", image_predict_udf(\"transformed_image_bytes\"))\n",
    "        logger.info(f\"predict successfully\")\n",
    "        pandas_preds_df = inputs_struct.toPandas()\n",
    "        for index, row in pandas_preds_df.iterrows():\n",
    "            preds = np.array(row['predictions']).reshape(len(CLASSES), IMG_DIM, IMG_DIM)\n",
    "            f_mask = reverse_transform_mask(preds)\n",
    "\n",
    "            # Convert mask to bytes\n",
    "            mask_bytes = io.BytesIO()\n",
    "            np.save(mask_bytes, f_mask)\n",
    "            mask_bytes.seek(0)\n",
    "\n",
    "            # Save the mask bytes to GridFS\n",
    "            mask_id = fs.put(mask_bytes, filename=f\"{row['key']}_mask.npy\")\n",
    "\n",
    "            # Save the mask ID and image ID to MongoDB\n",
    "            image_doc = {\n",
    "                \"image_id\": row['key'],\n",
    "                \"mask_gridfs_id\": mask_id\n",
    "            }\n",
    "            collection.insert_one(image_doc)\n",
    "            logger.info(f\"Processed and saved mask for image {row['key']} to MongoDB\")\n",
    "            print(f\"Processed and saved mask for image {row['key']} to MongoDB\")\n",
    "    else:\n",
    "        logger.info(\"Empty DataFrame received in foreachBatch\")\n",
    "        print(\"Empty DataFrame received in foreachBatch\")"
   ]
  },
  {
   "cell_type": "code",
   "execution_count": 11,
   "metadata": {},
   "outputs": [],
   "source": [
    "\n",
    "# Clean the checkpoint directory\n",
    "import shutil\n",
    "shutil.rmtree(\"checkpoint_dir\", ignore_errors=True)\n",
    "\n",
    "# Create DataFrame from Kafka stream\n",
    "streamRawDf = spark.readStream.format(\"kafka\").option(\"kafka.bootstrap.servers\", kafka_server).option(\"subscribe\", topic_name).option(\"startingOffsets\", \"latest\").load()\n",
    "streamDF = streamRawDf.select(col(\"key\").cast(\"string\"), col(\"value\").alias(\"image_bytes\"))\n"
   ]
  },
  {
   "cell_type": "code",
   "execution_count": 12,
   "metadata": {},
   "outputs": [
    {
     "name": "stderr",
     "output_type": "stream",
     "text": [
      "INFO:py4j.java_gateway:Callback Server Starting\n",
      "INFO:py4j.java_gateway:Socket listening on ('127.0.0.1', 63485)\n",
      "INFO:py4j.clientserver:Python Server ready to receive messages\n",
      "INFO:py4j.clientserver:Received command c on object id p0\n",
      "INFO:__main__:Foreach Batch Function called on Epoch ID: 0.\n"
     ]
    },
    {
     "name": "stdout",
     "output_type": "stream",
     "text": [
      "Foreach Batch Function called on Epoch ID: 0.\n"
     ]
    },
    {
     "name": "stderr",
     "output_type": "stream",
     "text": [
      "INFO:__main__:Empty DataFrame received in foreachBatch\n"
     ]
    },
    {
     "name": "stdout",
     "output_type": "stream",
     "text": [
      "Empty DataFrame received in foreachBatch\n"
     ]
    },
    {
     "name": "stderr",
     "output_type": "stream",
     "text": [
      "INFO:py4j.clientserver:Received command c on object id p0\n",
      "INFO:__main__:Foreach Batch Function called on Epoch ID: 1.\n"
     ]
    },
    {
     "name": "stdout",
     "output_type": "stream",
     "text": [
      "Foreach Batch Function called on Epoch ID: 1.\n"
     ]
    },
    {
     "name": "stderr",
     "output_type": "stream",
     "text": [
      "INFO:__main__:Processing 1 records in the batch.\n"
     ]
    },
    {
     "name": "stdout",
     "output_type": "stream",
     "text": [
      "Processing 1 records in the batch.\n"
     ]
    },
    {
     "name": "stderr",
     "output_type": "stream",
     "text": [
      "INFO:__main__:Transformed image shape: (786432,)\n",
      "INFO:__main__:Inputs array shape: (1, 786432)\n"
     ]
    },
    {
     "name": "stdout",
     "output_type": "stream",
     "text": [
      "Transformed image shape: (786432,)\n",
      "Inputs array shape: (1, 786432)\n"
     ]
    },
    {
     "name": "stderr",
     "output_type": "stream",
     "text": [
      "INFO:__main__:create dataframe successfully\n",
      "INFO:__main__:predict successfully\n",
      "INFO:__main__:Processed and saved mask for image 10163 to MongoDB\n"
     ]
    },
    {
     "name": "stdout",
     "output_type": "stream",
     "text": [
      "Processed and saved mask for image 10163 to MongoDB\n"
     ]
    },
    {
     "name": "stderr",
     "output_type": "stream",
     "text": [
      "INFO:py4j.clientserver:Received command c on object id p0\n",
      "INFO:__main__:Foreach Batch Function called on Epoch ID: 2.\n"
     ]
    },
    {
     "name": "stdout",
     "output_type": "stream",
     "text": [
      "Foreach Batch Function called on Epoch ID: 2.\n"
     ]
    },
    {
     "name": "stderr",
     "output_type": "stream",
     "text": [
      "INFO:__main__:Processing 6 records in the batch.\n"
     ]
    },
    {
     "name": "stdout",
     "output_type": "stream",
     "text": [
      "Processing 6 records in the batch.\n"
     ]
    },
    {
     "name": "stderr",
     "output_type": "stream",
     "text": [
      "INFO:__main__:Transformed image shape: (786432,)\n",
      "INFO:__main__:Transformed image shape: (786432,)\n",
      "INFO:__main__:Transformed image shape: (786432,)\n",
      "INFO:__main__:Transformed image shape: (786432,)\n",
      "INFO:__main__:Transformed image shape: (786432,)\n",
      "INFO:__main__:Transformed image shape: (786432,)\n",
      "INFO:__main__:Inputs array shape: (6, 786432)\n"
     ]
    },
    {
     "name": "stdout",
     "output_type": "stream",
     "text": [
      "Transformed image shape: (786432,)\n",
      "Transformed image shape: (786432,)\n",
      "Transformed image shape: (786432,)\n",
      "Transformed image shape: (786432,)\n",
      "Transformed image shape: (786432,)\n",
      "Transformed image shape: (786432,)\n",
      "Inputs array shape: (6, 786432)\n"
     ]
    },
    {
     "name": "stderr",
     "output_type": "stream",
     "text": [
      "INFO:__main__:create dataframe successfully\n",
      "INFO:__main__:predict successfully\n",
      "INFO:__main__:Processed and saved mask for image 10164 to MongoDB\n",
      "INFO:__main__:Processed and saved mask for image 10167 to MongoDB\n"
     ]
    },
    {
     "name": "stdout",
     "output_type": "stream",
     "text": [
      "Processed and saved mask for image 10164 to MongoDB\n",
      "Processed and saved mask for image 10167 to MongoDB\n"
     ]
    },
    {
     "name": "stderr",
     "output_type": "stream",
     "text": [
      "INFO:__main__:Processed and saved mask for image 10174 to MongoDB\n"
     ]
    },
    {
     "name": "stdout",
     "output_type": "stream",
     "text": [
      "Processed and saved mask for image 10174 to MongoDB\n"
     ]
    },
    {
     "name": "stderr",
     "output_type": "stream",
     "text": [
      "INFO:__main__:Processed and saved mask for image 10183 to MongoDB\n"
     ]
    },
    {
     "name": "stdout",
     "output_type": "stream",
     "text": [
      "Processed and saved mask for image 10183 to MongoDB\n"
     ]
    },
    {
     "name": "stderr",
     "output_type": "stream",
     "text": [
      "INFO:__main__:Processed and saved mask for image 10808 to MongoDB\n"
     ]
    },
    {
     "name": "stdout",
     "output_type": "stream",
     "text": [
      "Processed and saved mask for image 10808 to MongoDB\n"
     ]
    },
    {
     "name": "stderr",
     "output_type": "stream",
     "text": [
      "INFO:__main__:Processed and saved mask for image 10812 to MongoDB\n"
     ]
    },
    {
     "name": "stdout",
     "output_type": "stream",
     "text": [
      "Processed and saved mask for image 10812 to MongoDB\n"
     ]
    },
    {
     "name": "stderr",
     "output_type": "stream",
     "text": [
      "INFO:py4j.clientserver:Received command c on object id p0\n",
      "INFO:__main__:Foreach Batch Function called on Epoch ID: 3.\n"
     ]
    },
    {
     "name": "stdout",
     "output_type": "stream",
     "text": [
      "Foreach Batch Function called on Epoch ID: 3.\n"
     ]
    },
    {
     "name": "stderr",
     "output_type": "stream",
     "text": [
      "INFO:__main__:Processing 8 records in the batch.\n",
      "INFO:__main__:Transformed image shape: (786432,)\n",
      "INFO:__main__:Transformed image shape: (786432,)\n",
      "INFO:__main__:Transformed image shape: (786432,)\n",
      "INFO:__main__:Transformed image shape: (786432,)\n",
      "INFO:__main__:Transformed image shape: (786432,)\n",
      "INFO:__main__:Transformed image shape: (786432,)\n",
      "INFO:__main__:Transformed image shape: (786432,)\n",
      "INFO:__main__:Transformed image shape: (786432,)\n"
     ]
    },
    {
     "name": "stdout",
     "output_type": "stream",
     "text": [
      "Processing 8 records in the batch.\n",
      "Transformed image shape: (786432,)\n",
      "Transformed image shape: (786432,)\n",
      "Transformed image shape: (786432,)\n",
      "Transformed image shape: (786432,)\n",
      "Transformed image shape: (786432,)\n",
      "Transformed image shape: (786432,)\n",
      "Transformed image shape: (786432,)\n"
     ]
    },
    {
     "name": "stderr",
     "output_type": "stream",
     "text": [
      "INFO:__main__:Inputs array shape: (8, 786432)\n"
     ]
    },
    {
     "name": "stdout",
     "output_type": "stream",
     "text": [
      "Transformed image shape: (786432,)\n",
      "Inputs array shape: (8, 786432)\n"
     ]
    },
    {
     "name": "stderr",
     "output_type": "stream",
     "text": [
      "INFO:__main__:create dataframe successfully\n",
      "INFO:__main__:predict successfully\n",
      "INFO:__main__:Processed and saved mask for image 10813 to MongoDB\n"
     ]
    },
    {
     "name": "stdout",
     "output_type": "stream",
     "text": [
      "Processed and saved mask for image 10813 to MongoDB\n"
     ]
    },
    {
     "name": "stderr",
     "output_type": "stream",
     "text": [
      "INFO:__main__:Processed and saved mask for image 10814 to MongoDB\n"
     ]
    },
    {
     "name": "stdout",
     "output_type": "stream",
     "text": [
      "Processed and saved mask for image 10814 to MongoDB\n"
     ]
    },
    {
     "name": "stderr",
     "output_type": "stream",
     "text": [
      "INFO:__main__:Processed and saved mask for image 10823 to MongoDB\n"
     ]
    },
    {
     "name": "stdout",
     "output_type": "stream",
     "text": [
      "Processed and saved mask for image 10823 to MongoDB\n"
     ]
    },
    {
     "name": "stderr",
     "output_type": "stream",
     "text": [
      "INFO:__main__:Processed and saved mask for image 10829 to MongoDB\n",
      "INFO:__main__:Processed and saved mask for image 10838 to MongoDB\n"
     ]
    },
    {
     "name": "stdout",
     "output_type": "stream",
     "text": [
      "Processed and saved mask for image 10829 to MongoDB\n",
      "Processed and saved mask for image 10838 to MongoDB\n"
     ]
    },
    {
     "name": "stderr",
     "output_type": "stream",
     "text": [
      "INFO:__main__:Processed and saved mask for image 10839 to MongoDB\n"
     ]
    },
    {
     "name": "stdout",
     "output_type": "stream",
     "text": [
      "Processed and saved mask for image 10839 to MongoDB\n"
     ]
    },
    {
     "name": "stderr",
     "output_type": "stream",
     "text": [
      "INFO:__main__:Processed and saved mask for image 10843 to MongoDB\n"
     ]
    },
    {
     "name": "stdout",
     "output_type": "stream",
     "text": [
      "Processed and saved mask for image 10843 to MongoDB\n"
     ]
    },
    {
     "name": "stderr",
     "output_type": "stream",
     "text": [
      "INFO:__main__:Processed and saved mask for image 11483 to MongoDB\n"
     ]
    },
    {
     "name": "stdout",
     "output_type": "stream",
     "text": [
      "Processed and saved mask for image 11483 to MongoDB\n"
     ]
    },
    {
     "name": "stderr",
     "output_type": "stream",
     "text": [
      "INFO:py4j.clientserver:Received command c on object id p0\n",
      "INFO:__main__:Foreach Batch Function called on Epoch ID: 4.\n"
     ]
    },
    {
     "name": "stdout",
     "output_type": "stream",
     "text": [
      "Foreach Batch Function called on Epoch ID: 4.\n"
     ]
    },
    {
     "name": "stderr",
     "output_type": "stream",
     "text": [
      "INFO:__main__:Processing 9 records in the batch.\n"
     ]
    },
    {
     "name": "stdout",
     "output_type": "stream",
     "text": [
      "Processing 9 records in the batch.\n"
     ]
    },
    {
     "name": "stderr",
     "output_type": "stream",
     "text": [
      "INFO:__main__:Transformed image shape: (786432,)\n",
      "INFO:__main__:Transformed image shape: (786432,)\n",
      "INFO:__main__:Transformed image shape: (786432,)\n",
      "INFO:__main__:Transformed image shape: (786432,)\n",
      "INFO:__main__:Transformed image shape: (786432,)\n",
      "INFO:__main__:Transformed image shape: (786432,)\n",
      "INFO:__main__:Transformed image shape: (786432,)\n",
      "INFO:__main__:Transformed image shape: (786432,)\n",
      "INFO:__main__:Transformed image shape: (786432,)\n",
      "INFO:__main__:Inputs array shape: (9, 786432)\n"
     ]
    },
    {
     "name": "stdout",
     "output_type": "stream",
     "text": [
      "Transformed image shape: (786432,)\n",
      "Transformed image shape: (786432,)\n",
      "Transformed image shape: (786432,)\n",
      "Transformed image shape: (786432,)\n",
      "Transformed image shape: (786432,)\n",
      "Transformed image shape: (786432,)\n",
      "Transformed image shape: (786432,)\n",
      "Transformed image shape: (786432,)\n",
      "Transformed image shape: (786432,)\n",
      "Inputs array shape: (9, 786432)\n"
     ]
    },
    {
     "name": "stderr",
     "output_type": "stream",
     "text": [
      "INFO:__main__:create dataframe successfully\n",
      "INFO:__main__:predict successfully\n",
      "INFO:__main__:Processed and saved mask for image 6336 to MongoDB\n",
      "INFO:__main__:Processed and saved mask for image 6342 to MongoDB\n"
     ]
    },
    {
     "name": "stdout",
     "output_type": "stream",
     "text": [
      "Processed and saved mask for image 6336 to MongoDB\n",
      "Processed and saved mask for image 6342 to MongoDB\n"
     ]
    },
    {
     "name": "stderr",
     "output_type": "stream",
     "text": [
      "INFO:__main__:Processed and saved mask for image 6353 to MongoDB\n"
     ]
    },
    {
     "name": "stdout",
     "output_type": "stream",
     "text": [
      "Processed and saved mask for image 6353 to MongoDB\n"
     ]
    },
    {
     "name": "stderr",
     "output_type": "stream",
     "text": [
      "INFO:__main__:Processed and saved mask for image 6362 to MongoDB\n"
     ]
    },
    {
     "name": "stdout",
     "output_type": "stream",
     "text": [
      "Processed and saved mask for image 6362 to MongoDB\n"
     ]
    },
    {
     "name": "stderr",
     "output_type": "stream",
     "text": [
      "INFO:__main__:Processed and saved mask for image 6371 to MongoDB\n"
     ]
    },
    {
     "name": "stdout",
     "output_type": "stream",
     "text": [
      "Processed and saved mask for image 6371 to MongoDB\n"
     ]
    },
    {
     "name": "stderr",
     "output_type": "stream",
     "text": [
      "INFO:__main__:Processed and saved mask for image 6377 to MongoDB\n"
     ]
    },
    {
     "name": "stdout",
     "output_type": "stream",
     "text": [
      "Processed and saved mask for image 6377 to MongoDB\n"
     ]
    },
    {
     "name": "stderr",
     "output_type": "stream",
     "text": [
      "INFO:__main__:Processed and saved mask for image 6383 to MongoDB\n"
     ]
    },
    {
     "name": "stdout",
     "output_type": "stream",
     "text": [
      "Processed and saved mask for image 6383 to MongoDB\n"
     ]
    },
    {
     "name": "stderr",
     "output_type": "stream",
     "text": [
      "INFO:__main__:Processed and saved mask for image 6389 to MongoDB\n"
     ]
    },
    {
     "name": "stdout",
     "output_type": "stream",
     "text": [
      "Processed and saved mask for image 6389 to MongoDB\n"
     ]
    },
    {
     "name": "stderr",
     "output_type": "stream",
     "text": [
      "INFO:__main__:Processed and saved mask for image 6391 to MongoDB\n"
     ]
    },
    {
     "name": "stdout",
     "output_type": "stream",
     "text": [
      "Processed and saved mask for image 6391 to MongoDB\n"
     ]
    },
    {
     "name": "stderr",
     "output_type": "stream",
     "text": [
      "INFO:py4j.clientserver:Received command c on object id p0\n",
      "INFO:__main__:Foreach Batch Function called on Epoch ID: 5.\n"
     ]
    },
    {
     "name": "stdout",
     "output_type": "stream",
     "text": [
      "Foreach Batch Function called on Epoch ID: 5.\n"
     ]
    },
    {
     "name": "stderr",
     "output_type": "stream",
     "text": [
      "INFO:__main__:Processing 10 records in the batch.\n"
     ]
    },
    {
     "name": "stdout",
     "output_type": "stream",
     "text": [
      "Processing 10 records in the batch.\n"
     ]
    },
    {
     "name": "stderr",
     "output_type": "stream",
     "text": [
      "INFO:__main__:Transformed image shape: (786432,)\n",
      "INFO:__main__:Transformed image shape: (786432,)\n",
      "INFO:__main__:Transformed image shape: (786432,)\n",
      "INFO:__main__:Transformed image shape: (786432,)\n",
      "INFO:__main__:Transformed image shape: (786432,)\n",
      "INFO:__main__:Transformed image shape: (786432,)\n",
      "INFO:__main__:Transformed image shape: (786432,)\n",
      "INFO:__main__:Transformed image shape: (786432,)\n",
      "INFO:__main__:Transformed image shape: (786432,)\n",
      "INFO:__main__:Transformed image shape: (786432,)\n",
      "INFO:__main__:Inputs array shape: (10, 786432)\n"
     ]
    },
    {
     "name": "stdout",
     "output_type": "stream",
     "text": [
      "Transformed image shape: (786432,)\n",
      "Transformed image shape: (786432,)\n",
      "Transformed image shape: (786432,)\n",
      "Transformed image shape: (786432,)\n",
      "Transformed image shape: (786432,)\n",
      "Transformed image shape: (786432,)\n",
      "Transformed image shape: (786432,)\n",
      "Transformed image shape: (786432,)\n",
      "Transformed image shape: (786432,)\n",
      "Transformed image shape: (786432,)\n",
      "Inputs array shape: (10, 786432)\n"
     ]
    },
    {
     "name": "stderr",
     "output_type": "stream",
     "text": [
      "INFO:__main__:create dataframe successfully\n",
      "INFO:__main__:predict successfully\n",
      "INFO:__main__:Processed and saved mask for image 6394 to MongoDB\n"
     ]
    },
    {
     "name": "stdout",
     "output_type": "stream",
     "text": [
      "Processed and saved mask for image 6394 to MongoDB\n"
     ]
    },
    {
     "name": "stderr",
     "output_type": "stream",
     "text": [
      "INFO:__main__:Processed and saved mask for image 6405 to MongoDB\n"
     ]
    },
    {
     "name": "stdout",
     "output_type": "stream",
     "text": [
      "Processed and saved mask for image 6405 to MongoDB\n"
     ]
    },
    {
     "name": "stderr",
     "output_type": "stream",
     "text": [
      "INFO:__main__:Processed and saved mask for image 6412 to MongoDB\n"
     ]
    },
    {
     "name": "stdout",
     "output_type": "stream",
     "text": [
      "Processed and saved mask for image 6412 to MongoDB\n"
     ]
    },
    {
     "name": "stderr",
     "output_type": "stream",
     "text": [
      "INFO:__main__:Processed and saved mask for image 6417 to MongoDB\n"
     ]
    },
    {
     "name": "stdout",
     "output_type": "stream",
     "text": [
      "Processed and saved mask for image 6417 to MongoDB\n"
     ]
    },
    {
     "name": "stderr",
     "output_type": "stream",
     "text": [
      "INFO:__main__:Processed and saved mask for image 6419 to MongoDB\n"
     ]
    },
    {
     "name": "stdout",
     "output_type": "stream",
     "text": [
      "Processed and saved mask for image 6419 to MongoDB\n"
     ]
    },
    {
     "name": "stderr",
     "output_type": "stream",
     "text": [
      "INFO:__main__:Processed and saved mask for image 6420 to MongoDB\n"
     ]
    },
    {
     "name": "stdout",
     "output_type": "stream",
     "text": [
      "Processed and saved mask for image 6420 to MongoDB\n"
     ]
    },
    {
     "name": "stderr",
     "output_type": "stream",
     "text": [
      "INFO:__main__:Processed and saved mask for image 6445 to MongoDB\n"
     ]
    },
    {
     "name": "stdout",
     "output_type": "stream",
     "text": [
      "Processed and saved mask for image 6445 to MongoDB\n"
     ]
    },
    {
     "name": "stderr",
     "output_type": "stream",
     "text": [
      "INFO:__main__:Processed and saved mask for image 6449 to MongoDB\n"
     ]
    },
    {
     "name": "stdout",
     "output_type": "stream",
     "text": [
      "Processed and saved mask for image 6449 to MongoDB\n"
     ]
    },
    {
     "name": "stderr",
     "output_type": "stream",
     "text": [
      "INFO:__main__:Processed and saved mask for image 6452 to MongoDB\n"
     ]
    },
    {
     "name": "stdout",
     "output_type": "stream",
     "text": [
      "Processed and saved mask for image 6452 to MongoDB\n"
     ]
    },
    {
     "name": "stderr",
     "output_type": "stream",
     "text": [
      "INFO:__main__:Processed and saved mask for image 6467 to MongoDB\n"
     ]
    },
    {
     "name": "stdout",
     "output_type": "stream",
     "text": [
      "Processed and saved mask for image 6467 to MongoDB\n"
     ]
    },
    {
     "name": "stderr",
     "output_type": "stream",
     "text": [
      "INFO:py4j.clientserver:Received command c on object id p0\n",
      "INFO:__main__:Foreach Batch Function called on Epoch ID: 6.\n"
     ]
    },
    {
     "name": "stdout",
     "output_type": "stream",
     "text": [
      "Foreach Batch Function called on Epoch ID: 6.\n"
     ]
    },
    {
     "name": "stderr",
     "output_type": "stream",
     "text": [
      "INFO:__main__:Processing 10 records in the batch.\n"
     ]
    },
    {
     "name": "stdout",
     "output_type": "stream",
     "text": [
      "Processing 10 records in the batch.\n"
     ]
    },
    {
     "name": "stderr",
     "output_type": "stream",
     "text": [
      "INFO:__main__:Transformed image shape: (786432,)\n",
      "INFO:__main__:Transformed image shape: (786432,)\n",
      "INFO:__main__:Transformed image shape: (786432,)\n",
      "INFO:__main__:Transformed image shape: (786432,)\n",
      "INFO:__main__:Transformed image shape: (786432,)\n",
      "INFO:__main__:Transformed image shape: (786432,)\n",
      "INFO:__main__:Transformed image shape: (786432,)\n",
      "INFO:__main__:Transformed image shape: (786432,)\n",
      "INFO:__main__:Transformed image shape: (786432,)\n",
      "INFO:__main__:Transformed image shape: (786432,)\n",
      "INFO:__main__:Inputs array shape: (10, 786432)\n"
     ]
    },
    {
     "name": "stdout",
     "output_type": "stream",
     "text": [
      "Transformed image shape: (786432,)\n",
      "Transformed image shape: (786432,)\n",
      "Transformed image shape: (786432,)\n",
      "Transformed image shape: (786432,)\n",
      "Transformed image shape: (786432,)\n",
      "Transformed image shape: (786432,)\n",
      "Transformed image shape: (786432,)\n",
      "Transformed image shape: (786432,)\n",
      "Transformed image shape: (786432,)\n",
      "Transformed image shape: (786432,)\n",
      "Inputs array shape: (10, 786432)\n"
     ]
    },
    {
     "name": "stderr",
     "output_type": "stream",
     "text": [
      "INFO:__main__:create dataframe successfully\n",
      "INFO:__main__:predict successfully\n",
      "INFO:__main__:Processed and saved mask for image 6468 to MongoDB\n"
     ]
    },
    {
     "name": "stdout",
     "output_type": "stream",
     "text": [
      "Processed and saved mask for image 6468 to MongoDB\n"
     ]
    },
    {
     "name": "stderr",
     "output_type": "stream",
     "text": [
      "INFO:__main__:Processed and saved mask for image 6476 to MongoDB\n"
     ]
    },
    {
     "name": "stdout",
     "output_type": "stream",
     "text": [
      "Processed and saved mask for image 6476 to MongoDB\n"
     ]
    },
    {
     "name": "stderr",
     "output_type": "stream",
     "text": [
      "INFO:__main__:Processed and saved mask for image 6488 to MongoDB\n"
     ]
    },
    {
     "name": "stdout",
     "output_type": "stream",
     "text": [
      "Processed and saved mask for image 6488 to MongoDB\n"
     ]
    },
    {
     "name": "stderr",
     "output_type": "stream",
     "text": [
      "INFO:__main__:Processed and saved mask for image 6514 to MongoDB\n"
     ]
    },
    {
     "name": "stdout",
     "output_type": "stream",
     "text": [
      "Processed and saved mask for image 6514 to MongoDB\n"
     ]
    },
    {
     "name": "stderr",
     "output_type": "stream",
     "text": [
      "INFO:__main__:Processed and saved mask for image 6517 to MongoDB\n"
     ]
    },
    {
     "name": "stdout",
     "output_type": "stream",
     "text": [
      "Processed and saved mask for image 6517 to MongoDB\n"
     ]
    },
    {
     "name": "stderr",
     "output_type": "stream",
     "text": [
      "INFO:__main__:Processed and saved mask for image 6536 to MongoDB\n"
     ]
    },
    {
     "name": "stdout",
     "output_type": "stream",
     "text": [
      "Processed and saved mask for image 6536 to MongoDB\n"
     ]
    },
    {
     "name": "stderr",
     "output_type": "stream",
     "text": [
      "INFO:__main__:Processed and saved mask for image 6545 to MongoDB\n"
     ]
    },
    {
     "name": "stdout",
     "output_type": "stream",
     "text": [
      "Processed and saved mask for image 6545 to MongoDB\n"
     ]
    },
    {
     "name": "stderr",
     "output_type": "stream",
     "text": [
      "INFO:__main__:Processed and saved mask for image 6550 to MongoDB\n"
     ]
    },
    {
     "name": "stdout",
     "output_type": "stream",
     "text": [
      "Processed and saved mask for image 6550 to MongoDB\n"
     ]
    },
    {
     "name": "stderr",
     "output_type": "stream",
     "text": [
      "INFO:__main__:Processed and saved mask for image 6553 to MongoDB\n"
     ]
    },
    {
     "name": "stdout",
     "output_type": "stream",
     "text": [
      "Processed and saved mask for image 6553 to MongoDB\n"
     ]
    },
    {
     "name": "stderr",
     "output_type": "stream",
     "text": [
      "INFO:__main__:Processed and saved mask for image 6557 to MongoDB\n"
     ]
    },
    {
     "name": "stdout",
     "output_type": "stream",
     "text": [
      "Processed and saved mask for image 6557 to MongoDB\n"
     ]
    },
    {
     "name": "stderr",
     "output_type": "stream",
     "text": [
      "INFO:py4j.clientserver:Received command c on object id p0\n",
      "INFO:__main__:Foreach Batch Function called on Epoch ID: 7.\n"
     ]
    },
    {
     "name": "stdout",
     "output_type": "stream",
     "text": [
      "Foreach Batch Function called on Epoch ID: 7.\n"
     ]
    },
    {
     "name": "stderr",
     "output_type": "stream",
     "text": [
      "INFO:__main__:Processing 10 records in the batch.\n"
     ]
    },
    {
     "name": "stdout",
     "output_type": "stream",
     "text": [
      "Processing 10 records in the batch.\n"
     ]
    },
    {
     "name": "stderr",
     "output_type": "stream",
     "text": [
      "INFO:__main__:Transformed image shape: (786432,)\n",
      "INFO:__main__:Transformed image shape: (786432,)\n",
      "INFO:__main__:Transformed image shape: (786432,)\n",
      "INFO:__main__:Transformed image shape: (786432,)\n",
      "INFO:__main__:Transformed image shape: (786432,)\n",
      "INFO:__main__:Transformed image shape: (786432,)\n",
      "INFO:__main__:Transformed image shape: (786432,)\n",
      "INFO:__main__:Transformed image shape: (786432,)\n",
      "INFO:__main__:Transformed image shape: (786432,)\n",
      "INFO:__main__:Transformed image shape: (786432,)\n",
      "INFO:__main__:Inputs array shape: (10, 786432)\n"
     ]
    },
    {
     "name": "stdout",
     "output_type": "stream",
     "text": [
      "Transformed image shape: (786432,)\n",
      "Transformed image shape: (786432,)\n",
      "Transformed image shape: (786432,)\n",
      "Transformed image shape: (786432,)\n",
      "Transformed image shape: (786432,)\n",
      "Transformed image shape: (786432,)\n",
      "Transformed image shape: (786432,)\n",
      "Transformed image shape: (786432,)\n",
      "Transformed image shape: (786432,)\n",
      "Transformed image shape: (786432,)\n",
      "Inputs array shape: (10, 786432)\n"
     ]
    },
    {
     "name": "stderr",
     "output_type": "stream",
     "text": [
      "INFO:__main__:create dataframe successfully\n",
      "INFO:__main__:predict successfully\n",
      "INFO:__main__:Processed and saved mask for image 6558 to MongoDB\n"
     ]
    },
    {
     "name": "stdout",
     "output_type": "stream",
     "text": [
      "Processed and saved mask for image 6558 to MongoDB\n"
     ]
    },
    {
     "name": "stderr",
     "output_type": "stream",
     "text": [
      "INFO:__main__:Processed and saved mask for image 6561 to MongoDB\n"
     ]
    },
    {
     "name": "stdout",
     "output_type": "stream",
     "text": [
      "Processed and saved mask for image 6561 to MongoDB\n"
     ]
    },
    {
     "name": "stderr",
     "output_type": "stream",
     "text": [
      "INFO:__main__:Processed and saved mask for image 6562 to MongoDB\n"
     ]
    },
    {
     "name": "stdout",
     "output_type": "stream",
     "text": [
      "Processed and saved mask for image 6562 to MongoDB\n"
     ]
    },
    {
     "name": "stderr",
     "output_type": "stream",
     "text": [
      "INFO:__main__:Processed and saved mask for image 6567 to MongoDB\n"
     ]
    },
    {
     "name": "stdout",
     "output_type": "stream",
     "text": [
      "Processed and saved mask for image 6567 to MongoDB\n"
     ]
    },
    {
     "name": "stderr",
     "output_type": "stream",
     "text": [
      "INFO:__main__:Processed and saved mask for image 6568 to MongoDB\n"
     ]
    },
    {
     "name": "stdout",
     "output_type": "stream",
     "text": [
      "Processed and saved mask for image 6568 to MongoDB\n"
     ]
    },
    {
     "name": "stderr",
     "output_type": "stream",
     "text": [
      "INFO:__main__:Processed and saved mask for image 6583 to MongoDB\n"
     ]
    },
    {
     "name": "stdout",
     "output_type": "stream",
     "text": [
      "Processed and saved mask for image 6583 to MongoDB\n"
     ]
    },
    {
     "name": "stderr",
     "output_type": "stream",
     "text": [
      "INFO:__main__:Processed and saved mask for image 6590 to MongoDB\n"
     ]
    },
    {
     "name": "stdout",
     "output_type": "stream",
     "text": [
      "Processed and saved mask for image 6590 to MongoDB\n"
     ]
    },
    {
     "name": "stderr",
     "output_type": "stream",
     "text": [
      "INFO:__main__:Processed and saved mask for image 6593 to MongoDB\n"
     ]
    },
    {
     "name": "stdout",
     "output_type": "stream",
     "text": [
      "Processed and saved mask for image 6593 to MongoDB\n"
     ]
    },
    {
     "name": "stderr",
     "output_type": "stream",
     "text": [
      "INFO:__main__:Processed and saved mask for image 6594 to MongoDB\n"
     ]
    },
    {
     "name": "stdout",
     "output_type": "stream",
     "text": [
      "Processed and saved mask for image 6594 to MongoDB\n"
     ]
    },
    {
     "name": "stderr",
     "output_type": "stream",
     "text": [
      "INFO:__main__:Processed and saved mask for image 6602 to MongoDB\n"
     ]
    },
    {
     "name": "stdout",
     "output_type": "stream",
     "text": [
      "Processed and saved mask for image 6602 to MongoDB\n"
     ]
    },
    {
     "name": "stderr",
     "output_type": "stream",
     "text": [
      "INFO:py4j.clientserver:Received command c on object id p0\n",
      "INFO:__main__:Foreach Batch Function called on Epoch ID: 8.\n"
     ]
    },
    {
     "name": "stdout",
     "output_type": "stream",
     "text": [
      "Foreach Batch Function called on Epoch ID: 8.\n"
     ]
    },
    {
     "name": "stderr",
     "output_type": "stream",
     "text": [
      "INFO:__main__:Processing 10 records in the batch.\n"
     ]
    },
    {
     "name": "stdout",
     "output_type": "stream",
     "text": [
      "Processing 10 records in the batch.\n"
     ]
    },
    {
     "name": "stderr",
     "output_type": "stream",
     "text": [
      "INFO:__main__:Transformed image shape: (786432,)\n",
      "INFO:__main__:Transformed image shape: (786432,)\n",
      "INFO:__main__:Transformed image shape: (786432,)\n",
      "INFO:__main__:Transformed image shape: (786432,)\n",
      "INFO:__main__:Transformed image shape: (786432,)\n",
      "INFO:__main__:Transformed image shape: (786432,)\n",
      "INFO:__main__:Transformed image shape: (786432,)\n",
      "INFO:__main__:Transformed image shape: (786432,)\n",
      "INFO:__main__:Transformed image shape: (786432,)\n",
      "INFO:__main__:Transformed image shape: (786432,)\n",
      "INFO:__main__:Inputs array shape: (10, 786432)\n"
     ]
    },
    {
     "name": "stdout",
     "output_type": "stream",
     "text": [
      "Transformed image shape: (786432,)\n",
      "Transformed image shape: (786432,)\n",
      "Transformed image shape: (786432,)\n",
      "Transformed image shape: (786432,)\n",
      "Transformed image shape: (786432,)\n",
      "Transformed image shape: (786432,)\n",
      "Transformed image shape: (786432,)\n",
      "Transformed image shape: (786432,)\n",
      "Transformed image shape: (786432,)\n",
      "Transformed image shape: (786432,)\n",
      "Inputs array shape: (10, 786432)\n"
     ]
    },
    {
     "name": "stderr",
     "output_type": "stream",
     "text": [
      "INFO:__main__:create dataframe successfully\n",
      "INFO:__main__:predict successfully\n",
      "INFO:__main__:Processed and saved mask for image 6619 to MongoDB\n"
     ]
    },
    {
     "name": "stdout",
     "output_type": "stream",
     "text": [
      "Processed and saved mask for image 6619 to MongoDB\n"
     ]
    },
    {
     "name": "stderr",
     "output_type": "stream",
     "text": [
      "INFO:__main__:Processed and saved mask for image 6624 to MongoDB\n"
     ]
    },
    {
     "name": "stdout",
     "output_type": "stream",
     "text": [
      "Processed and saved mask for image 6624 to MongoDB\n"
     ]
    },
    {
     "name": "stderr",
     "output_type": "stream",
     "text": [
      "INFO:__main__:Processed and saved mask for image 6632 to MongoDB\n"
     ]
    },
    {
     "name": "stdout",
     "output_type": "stream",
     "text": [
      "Processed and saved mask for image 6632 to MongoDB\n"
     ]
    },
    {
     "name": "stderr",
     "output_type": "stream",
     "text": [
      "INFO:__main__:Processed and saved mask for image 6638 to MongoDB\n"
     ]
    },
    {
     "name": "stdout",
     "output_type": "stream",
     "text": [
      "Processed and saved mask for image 6638 to MongoDB\n"
     ]
    },
    {
     "name": "stderr",
     "output_type": "stream",
     "text": [
      "INFO:__main__:Processed and saved mask for image 6659 to MongoDB\n"
     ]
    },
    {
     "name": "stdout",
     "output_type": "stream",
     "text": [
      "Processed and saved mask for image 6659 to MongoDB\n"
     ]
    },
    {
     "name": "stderr",
     "output_type": "stream",
     "text": [
      "INFO:__main__:Processed and saved mask for image 6663 to MongoDB\n"
     ]
    },
    {
     "name": "stdout",
     "output_type": "stream",
     "text": [
      "Processed and saved mask for image 6663 to MongoDB\n"
     ]
    },
    {
     "name": "stderr",
     "output_type": "stream",
     "text": [
      "INFO:__main__:Processed and saved mask for image 6671 to MongoDB\n"
     ]
    },
    {
     "name": "stdout",
     "output_type": "stream",
     "text": [
      "Processed and saved mask for image 6671 to MongoDB\n"
     ]
    },
    {
     "name": "stderr",
     "output_type": "stream",
     "text": [
      "INFO:__main__:Processed and saved mask for image 6672 to MongoDB\n"
     ]
    },
    {
     "name": "stdout",
     "output_type": "stream",
     "text": [
      "Processed and saved mask for image 6672 to MongoDB\n"
     ]
    },
    {
     "name": "stderr",
     "output_type": "stream",
     "text": [
      "INFO:__main__:Processed and saved mask for image 6677 to MongoDB\n"
     ]
    },
    {
     "name": "stdout",
     "output_type": "stream",
     "text": [
      "Processed and saved mask for image 6677 to MongoDB\n"
     ]
    },
    {
     "name": "stderr",
     "output_type": "stream",
     "text": [
      "INFO:__main__:Processed and saved mask for image 6679 to MongoDB\n"
     ]
    },
    {
     "name": "stdout",
     "output_type": "stream",
     "text": [
      "Processed and saved mask for image 6679 to MongoDB\n"
     ]
    },
    {
     "name": "stderr",
     "output_type": "stream",
     "text": [
      "INFO:py4j.clientserver:Received command c on object id p0\n",
      "INFO:__main__:Foreach Batch Function called on Epoch ID: 9.\n"
     ]
    },
    {
     "name": "stdout",
     "output_type": "stream",
     "text": [
      "Foreach Batch Function called on Epoch ID: 9.\n"
     ]
    },
    {
     "name": "stderr",
     "output_type": "stream",
     "text": [
      "INFO:__main__:Processing 10 records in the batch.\n"
     ]
    },
    {
     "name": "stdout",
     "output_type": "stream",
     "text": [
      "Processing 10 records in the batch.\n"
     ]
    },
    {
     "name": "stderr",
     "output_type": "stream",
     "text": [
      "INFO:__main__:Transformed image shape: (786432,)\n",
      "INFO:__main__:Transformed image shape: (786432,)\n",
      "INFO:__main__:Transformed image shape: (786432,)\n",
      "INFO:__main__:Transformed image shape: (786432,)\n",
      "INFO:__main__:Transformed image shape: (786432,)\n",
      "INFO:__main__:Transformed image shape: (786432,)\n",
      "INFO:__main__:Transformed image shape: (786432,)\n",
      "INFO:__main__:Transformed image shape: (786432,)\n",
      "INFO:__main__:Transformed image shape: (786432,)\n",
      "INFO:__main__:Transformed image shape: (786432,)\n",
      "INFO:__main__:Inputs array shape: (10, 786432)\n"
     ]
    },
    {
     "name": "stdout",
     "output_type": "stream",
     "text": [
      "Transformed image shape: (786432,)\n",
      "Transformed image shape: (786432,)\n",
      "Transformed image shape: (786432,)\n",
      "Transformed image shape: (786432,)\n",
      "Transformed image shape: (786432,)\n",
      "Transformed image shape: (786432,)\n",
      "Transformed image shape: (786432,)\n",
      "Transformed image shape: (786432,)\n",
      "Transformed image shape: (786432,)\n",
      "Transformed image shape: (786432,)\n",
      "Inputs array shape: (10, 786432)\n"
     ]
    },
    {
     "name": "stderr",
     "output_type": "stream",
     "text": [
      "INFO:__main__:create dataframe successfully\n",
      "INFO:__main__:predict successfully\n"
     ]
    }
   ],
   "source": [
    "# Start the streaming query\n",
    "query = streamDF.writeStream.foreachBatch(foreach_batch_function).option(\"checkpointLocation\", \"checkpoint_dir\").start()\n",
    "\n",
    "# Wait for the termination of the query\n",
    "query.awaitTermination()\n"
   ]
  }
 ],
 "metadata": {
  "kernelspec": {
   "display_name": "cuda",
   "language": "python",
   "name": "python3"
  },
  "language_info": {
   "codemirror_mode": {
    "name": "ipython",
    "version": 3
   },
   "file_extension": ".py",
   "mimetype": "text/x-python",
   "name": "python",
   "nbconvert_exporter": "python",
   "pygments_lexer": "ipython3",
   "version": "3.9.18"
  }
 },
 "nbformat": 4,
 "nbformat_minor": 2
}
